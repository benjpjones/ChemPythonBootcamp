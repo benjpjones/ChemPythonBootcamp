{
 "cells": [
  {
   "cell_type": "markdown",
   "metadata": {},
   "source": [
    "# Data Handling with Pandas"
   ]
  },
  {
   "cell_type": "code",
   "execution_count": null,
   "metadata": {},
   "outputs": [],
   "source": [
    "#Imports etc\n",
    "import matplotlib \n",
    "import numpy\n",
    "import pylab\n",
    "import pandas as pd\n",
    "%matplotlib inline"
   ]
  },
  {
   "cell_type": "markdown",
   "metadata": {},
   "source": [
    "There are a few ways to read and write data in Python.  If you have a simple text file, you can do this:"
   ]
  },
  {
   "cell_type": "code",
   "execution_count": null,
   "metadata": {},
   "outputs": [],
   "source": [
    "Events=numpy.loadtxt(\"Events.txt\")"
   ]
  },
  {
   "cell_type": "markdown",
   "metadata": {},
   "source": [
    "You could also do something fancier for more power to handle your data. Pandas is a framework for data science that allows easy manipulation and combination of big data tables. It also has convenient routines for processing data in e.g. excel format, that often prove useful. To open a file in Pandas, do this:"
   ]
  },
  {
   "cell_type": "code",
   "execution_count": null,
   "metadata": {},
   "outputs": [],
   "source": [
    "Events=pd.read_csv(\"Events.txt\",delimiter=' ')"
   ]
  },
  {
   "cell_type": "markdown",
   "metadata": {},
   "source": [
    "You can look at whats in the datafile like this"
   ]
  },
  {
   "cell_type": "code",
   "execution_count": null,
   "metadata": {},
   "outputs": [],
   "source": [
    "Events"
   ]
  },
  {
   "cell_type": "markdown",
   "metadata": {},
   "source": [
    "We see the title of the columns here is given by the first entry in the file. Since the data file has no headings, that is not ideal. We can give the table proper titles like this:"
   ]
  },
  {
   "cell_type": "code",
   "execution_count": null,
   "metadata": {},
   "outputs": [],
   "source": [
    "columnnames=['event_number',\n",
    "'run_number',\n",
    "'p1_Px',\n",
    "'p1_Py',\n",
    "'p1_Pz',\n",
    "'p1_E',\n",
    "'p1_Q',\n",
    "'p1_ID',\n",
    "'p2_Px',\n",
    "'p2_Py',\n",
    "'p2_Pz',\n",
    "'p2_E',\n",
    "'p2_Q',\n",
    "'p2_ID']\n",
    "\n",
    "Events=pd.read_csv(\"Events.txt\",delimiter=' ',names=columnnames)"
   ]
  },
  {
   "cell_type": "code",
   "execution_count": null,
   "metadata": {},
   "outputs": [],
   "source": [
    "Events"
   ]
  },
  {
   "cell_type": "markdown",
   "metadata": {},
   "source": [
    "To access a particular column we call it like this"
   ]
  },
  {
   "cell_type": "code",
   "execution_count": null,
   "metadata": {},
   "outputs": [],
   "source": [
    "Events.p1_E"
   ]
  },
  {
   "cell_type": "markdown",
   "metadata": {},
   "source": [
    "The type of this object is a pandas data series. We can handle it as it is, or we can convert it to a numpy array if we so choose:"
   ]
  },
  {
   "cell_type": "code",
   "execution_count": null,
   "metadata": {},
   "outputs": [],
   "source": [
    "ar=numpy.array(Events.p1_E)\n",
    "print(len(ar))"
   ]
  },
  {
   "cell_type": "markdown",
   "metadata": {},
   "source": [
    "We can histogram it either as a pandas series, or as an array, whatever is easiest:"
   ]
  },
  {
   "cell_type": "code",
   "execution_count": null,
   "metadata": {},
   "outputs": [],
   "source": [
    "pylab.hist(Events.p1_E,bins=100)\n",
    "pylab.title(\"Histogramming the Pandas series\")\n",
    "pylab.show()\n",
    "pylab.hist(ar,bins=100)\n",
    "pylab.title(\"Histogramming the array\")\n",
    "pylab.show()"
   ]
  },
  {
   "cell_type": "markdown",
   "metadata": {},
   "source": [
    "We can plot two series against eachother like this:"
   ]
  },
  {
   "cell_type": "code",
   "execution_count": null,
   "metadata": {},
   "outputs": [],
   "source": [
    "pylab.plot(Events.p1_E,Events.p1_Px,'.')"
   ]
  },
  {
   "cell_type": "markdown",
   "metadata": {},
   "source": [
    "In a plot like the one above, the dots are all on top of eachother. To better highlight the dot density, making them each a bit transparent is a useful trick:"
   ]
  },
  {
   "cell_type": "code",
   "execution_count": null,
   "metadata": {},
   "outputs": [],
   "source": [
    "pylab.plot(Events.p1_E,Events.p1_Px,'.',alpha=0.02)"
   ]
  },
  {
   "cell_type": "markdown",
   "metadata": {},
   "source": [
    "Even better would be to make a 2D histogram:"
   ]
  },
  {
   "cell_type": "code",
   "execution_count": null,
   "metadata": {},
   "outputs": [],
   "source": [
    "pylab.hist2d(Events.p1_E,Events.p1_Px,bins=(100,100),cmap='Blues')\n",
    "pylab.colorbar()\n",
    "pylab.show()"
   ]
  },
  {
   "cell_type": "markdown",
   "metadata": {},
   "source": [
    "Even better is a 2D histogram with a log scale:\n"
   ]
  },
  {
   "cell_type": "code",
   "execution_count": null,
   "metadata": {},
   "outputs": [],
   "source": [
    "pylab.hist2d(Events.p1_E,Events.p1_Px,bins=(100,100),cmap='Blues',norm = matplotlib.colors.LogNorm())\n",
    "pylab.colorbar()\n",
    "pylab.show()"
   ]
  },
  {
   "cell_type": "markdown",
   "metadata": {},
   "source": [
    "And so on. "
   ]
  },
  {
   "cell_type": "code",
   "execution_count": null,
   "metadata": {},
   "outputs": [],
   "source": []
  },
  {
   "cell_type": "markdown",
   "metadata": {},
   "source": [
    "# Slicing up data tables"
   ]
  },
  {
   "cell_type": "markdown",
   "metadata": {},
   "source": [
    "Just like with numpy arrays, we can select sub-tables from Pandas, either by picking out interesting rows or interesting columns.  If we only care about the kinematics of particle 1, for example, we can pick out only the particle 1 columns.  Try to understand what the following code is doing:"
   ]
  },
  {
   "cell_type": "code",
   "execution_count": null,
   "metadata": {},
   "outputs": [],
   "source": [
    "# This gives us the list of column names\n",
    "Columns=Events.columns\n",
    "print(Columns)"
   ]
  },
  {
   "cell_type": "code",
   "execution_count": null,
   "metadata": {},
   "outputs": [],
   "source": [
    "# Find out if each column has \"p1\" in its name:\n",
    "whichones=[\"p1\" in name for name in Columns]\n",
    "print(whichones)\n",
    "columnstokeep=numpy.array(Columns[whichones])\n",
    "print(columnstokeep)"
   ]
  },
  {
   "cell_type": "code",
   "execution_count": null,
   "metadata": {},
   "outputs": [],
   "source": [
    "SubTable=Events[columnstokeep]\n",
    "print(SubTable)"
   ]
  },
  {
   "cell_type": "markdown",
   "metadata": {},
   "source": [
    "Another thing we might want to do is keep only events matching a certain criteria. To access a set of rows rather than a set of columns, we can use the iloc command. The following will pick out everyting in the subtable with p1_Px>0"
   ]
  },
  {
   "cell_type": "code",
   "execution_count": null,
   "metadata": {},
   "outputs": [],
   "source": [
    "OnlyPositiveP1=SubTable.loc[SubTable.p1_Px>0]\n",
    "print(OnlyPositiveP1)"
   ]
  },
  {
   "cell_type": "code",
   "execution_count": null,
   "metadata": {},
   "outputs": [],
   "source": [
    "#check if we succeeded by making a plot\n",
    "pylab.plot(SubTable.p1_Px,SubTable.p1_Py,'o',alpha=0.02,color='red')\n",
    "pylab.plot(OnlyPositiveP1.p1_Px,OnlyPositiveP1.p1_Py,'o',alpha=0.02,color='black')\n"
   ]
  },
  {
   "cell_type": "markdown",
   "metadata": {},
   "source": [
    "We can save our sliced up data table to disk in a variety of formats like this:"
   ]
  },
  {
   "cell_type": "code",
   "execution_count": null,
   "metadata": {},
   "outputs": [],
   "source": [
    "OnlyPositiveP1.to_csv(\"./DataInCSV.csv\")\n",
    "OnlyPositiveP1.to_excel(\"./DataInExcel.xlsx\",engine='openpyxl')\n",
    "OnlyPositiveP1.to_html(\"./DataInhtml.html\")\n",
    "# And so on. (tab complete 'OnlyPositiveP1.to' to see what else is available)"
   ]
  },
  {
   "cell_type": "markdown",
   "metadata": {},
   "source": [
    "# Exercise"
   ]
  },
  {
   "cell_type": "markdown",
   "metadata": {},
   "source": [
    "Using Pandas data tables, select only the columns which are a momentum (pX, pY or pZ).  \n",
    "\n",
    "Make a plot of the total momentum of particle 1 vs the total momentum of particle 2, for all events where the Z component of p1 is greater than zero.  \n",
    "\n",
    "(total momentum is the norm of the vector (pX,pY,pZ)."
   ]
  },
  {
   "cell_type": "code",
   "execution_count": null,
   "metadata": {},
   "outputs": [],
   "source": []
  },
  {
   "cell_type": "markdown",
   "metadata": {},
   "source": [
    "# Getting good at Pandas\n"
   ]
  },
  {
   "cell_type": "markdown",
   "metadata": {},
   "source": [
    "If you want to get good with Pandas, not just basic with it, check out this mini-course:\n",
    "https://www.kaggle.com/learn/pandas"
   ]
  }
 ],
 "metadata": {
  "kernelspec": {
   "display_name": "Python 3",
   "language": "python",
   "name": "python3"
  },
  "language_info": {
   "codemirror_mode": {
    "name": "ipython",
    "version": 3
   },
   "file_extension": ".py",
   "mimetype": "text/x-python",
   "name": "python",
   "nbconvert_exporter": "python",
   "pygments_lexer": "ipython3",
   "version": "3.8.13"
  }
 },
 "nbformat": 4,
 "nbformat_minor": 1
}
